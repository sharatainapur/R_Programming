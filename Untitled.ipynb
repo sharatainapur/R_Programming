{
 "cells": [
  {
   "cell_type": "code",
   "execution_count": 15,
   "id": "7626152b",
   "metadata": {},
   "outputs": [
    {
     "data": {
      "text/html": [
       "<table>\n",
       "<thead><tr><th scope=col>BodyWt</th><th scope=col>BrainWt</th></tr></thead>\n",
       "<tbody>\n",
       "\t<tr><td>  3.385</td><td> 44.5  </td></tr>\n",
       "\t<tr><td>  0.480</td><td> 15.5  </td></tr>\n",
       "\t<tr><td>  1.350</td><td>  8.1  </td></tr>\n",
       "\t<tr><td>465.000</td><td>423.0  </td></tr>\n",
       "\t<tr><td> 36.330</td><td>119.5  </td></tr>\n",
       "\t<tr><td> 27.660</td><td>115.0  </td></tr>\n",
       "</tbody>\n",
       "</table>\n"
      ],
      "text/latex": [
       "\\begin{tabular}{r|ll}\n",
       " BodyWt & BrainWt\\\\\n",
       "\\hline\n",
       "\t   3.385 &  44.5  \\\\\n",
       "\t   0.480 &  15.5  \\\\\n",
       "\t   1.350 &   8.1  \\\\\n",
       "\t 465.000 & 423.0  \\\\\n",
       "\t  36.330 & 119.5  \\\\\n",
       "\t  27.660 & 115.0  \\\\\n",
       "\\end{tabular}\n"
      ],
      "text/markdown": [
       "\n",
       "| BodyWt | BrainWt |\n",
       "|---|---|\n",
       "|   3.385 |  44.5   |\n",
       "|   0.480 |  15.5   |\n",
       "|   1.350 |   8.1   |\n",
       "| 465.000 | 423.0   |\n",
       "|  36.330 | 119.5   |\n",
       "|  27.660 | 115.0   |\n",
       "\n"
      ],
      "text/plain": [
       "  BodyWt  BrainWt\n",
       "1   3.385  44.5  \n",
       "2   0.480  15.5  \n",
       "3   1.350   8.1  \n",
       "4 465.000 423.0  \n",
       "5  36.330 119.5  \n",
       "6  27.660 115.0  "
      ]
     },
     "metadata": {},
     "output_type": "display_data"
    },
    {
     "data": {
      "text/html": [
       "<ol class=list-inline>\n",
       "\t<li>62</li>\n",
       "\t<li>2</li>\n",
       "</ol>\n"
      ],
      "text/latex": [
       "\\begin{enumerate*}\n",
       "\\item 62\n",
       "\\item 2\n",
       "\\end{enumerate*}\n"
      ],
      "text/markdown": [
       "1. 62\n",
       "2. 2\n",
       "\n",
       "\n"
      ],
      "text/plain": [
       "[1] 62  2"
      ]
     },
     "metadata": {},
     "output_type": "display_data"
    },
    {
     "data": {
      "text/plain": [
       "     BodyWt            BrainWt       \n",
       " Min.   :   0.005   Min.   :   0.14  \n",
       " 1st Qu.:   0.600   1st Qu.:   4.25  \n",
       " Median :   3.342   Median :  17.25  \n",
       " Mean   : 198.790   Mean   : 283.13  \n",
       " 3rd Qu.:  48.203   3rd Qu.: 166.00  \n",
       " Max.   :6654.000   Max.   :5712.00  "
      ]
     },
     "metadata": {},
     "output_type": "display_data"
    },
    {
     "data": {
      "image/png": "[encoded data removed]",
      "text/plain": [
       "plot without title"
      ]
     },
     "metadata": {},
     "output_type": "display_data"
    },
    {
     "name": "stderr",
     "output_type": "stream",
     "text": [
      "\n",
      "Attaching package: 'dplyr'\n",
      "\n",
      "The following objects are masked from 'package:stats':\n",
      "\n",
      "    filter, lag\n",
      "\n",
      "The following objects are masked from 'package:base':\n",
      "\n",
      "    intersect, setdiff, setequal, union\n",
      "\n"
     ]
    },
    {
     "data": {
      "image/png": "[encoded data removed]",
      "text/plain": [
       "plot without title"
      ]
     },
     "metadata": {},
     "output_type": "display_data"
    }
   ],
   "source": [
    "data <- read.delim(file.choose())\n",
    "head(data)\n",
    "dim(data)\n",
    "boxplot(data$BodyWt, ylim=c(0,5))\n",
    "summary(data)\n",
    "plot(data)\n",
    "library(dplyr)"
   ]
  }
 ],
 "metadata": {
  "kernelspec": {
   "display_name": "R",
   "language": "R",
   "name": "ir"
  },
  "language_info": {
   "codemirror_mode": "r",
   "file_extension": ".r",
   "mimetype": "text/x-r-source",
   "name": "R",
   "pygments_lexer": "r",
   "version": "3.6.1"
  }
 },
 "nbformat": 4,
 "nbformat_minor": 5
}
