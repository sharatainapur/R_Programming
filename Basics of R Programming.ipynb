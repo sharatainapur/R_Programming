{
 "cells": [
  {
   "cell_type": "markdown",
   "id": "d4ba798e",
   "metadata": {},
   "source": [
    "# Variable Assignment in R programming"
   ]
  },
  {
   "cell_type": "code",
   "execution_count": 2,
   "id": "8c3b20aa",
   "metadata": {},
   "outputs": [
    {
     "data": {
      "text/html": [
       "20"
      ],
      "text/latex": [
       "20"
      ],
      "text/markdown": [
       "20"
      ],
      "text/plain": [
       "[1] 20"
      ]
     },
     "metadata": {},
     "output_type": "display_data"
    },
    {
     "data": {
      "text/html": [
       "<ol class=list-inline>\n",
       "\t<li>'area'</li>\n",
       "\t<li>'breadth'</li>\n",
       "\t<li>'length'</li>\n",
       "</ol>\n"
      ],
      "text/latex": [
       "\\begin{enumerate*}\n",
       "\\item 'area'\n",
       "\\item 'breadth'\n",
       "\\item 'length'\n",
       "\\end{enumerate*}\n"
      ],
      "text/markdown": [
       "1. 'area'\n",
       "2. 'breadth'\n",
       "3. 'length'\n",
       "\n",
       "\n"
      ],
      "text/plain": [
       "[1] \"area\"    \"breadth\" \"length\" "
      ]
     },
     "metadata": {},
     "output_type": "display_data"
    },
    {
     "name": "stdout",
     "output_type": "stream",
     "text": [
      "[1] 400\n"
     ]
    }
   ],
   "source": [
    "\n",
    "length <- 5\n",
    "breadth <- 4\n",
    "area = length*breadth\n",
    "area\n",
    "ls()\n",
    "print(area*area)"
   ]
  }
 ],
 "metadata": {
  "kernelspec": {
   "display_name": "R",
   "language": "R",
   "name": "ir"
  },
  "language_info": {
   "codemirror_mode": "r",
   "file_extension": ".r",
   "mimetype": "text/x-r-source",
   "name": "R",
   "pygments_lexer": "r",
   "version": "3.6.1"
  }
 },
 "nbformat": 4,
 "nbformat_minor": 5
}
